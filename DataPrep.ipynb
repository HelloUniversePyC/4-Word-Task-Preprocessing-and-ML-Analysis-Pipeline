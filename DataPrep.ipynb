{
 "cells": [
  {
   "cell_type": "code",
   "execution_count": null,
   "id": "ed0febe1-8880-42d5-842c-2a4cb88985bb",
   "metadata": {},
   "outputs": [],
   "source": [
    "import wheel\n",
    "import numpy as np\n",
    "import sklearn as skl\n",
    "from mat4py import loadmat\n",
    "import scipy.io\n",
    "import csv\n",
    "import struct\n",
    "import h5py\n",
    "import matplotlib.pyplot as plt\n",
    "import numpy as np\n",
    "from matplotlib import colormaps\n",
    "#from mne_bids import BIDSPath, read_raw_bids\n",
    "from scipy.signal import butter, filtfilt,welch\n",
    "from scipy.stats import zscore \n",
    "#from mne.time_frequency import tfr_multitaper\n",
    "import seaborn as sb\n",
    "from mpl_toolkits.mplot3d import Axes3D\n",
    "from matplotlib.backends.backend_tkagg import FigureCanvasTkAgg, NavigationToolbar2Tk\n",
    "import tkinter as tk\n",
    "#import mne\n",
    "#from mne.viz import plot_alignment, snapshot_brain_montage\n",
    "#import mne_bids\n",
    "#from mne.channels import make_standard_montage\n",
    "\n",
    "from sklearn.model_selection import train_test_split\n",
    "import pickle\n",
    "import os\n",
    "import dask\n",
    "import dask.dataframe as dd\n"
   ]
  },
  {
   "cell_type": "code",
   "execution_count": null,
   "id": "e6c19df6-e4f9-4d66-80b0-8313e2cc5609",
   "metadata": {},
   "outputs": [],
   "source": [
    "import matplotlib.pyplot as plt\n",
    "import numpy as np\n",
    "from matplotlib import colormaps\n",
    "from mne_bids import BIDSPath, read_raw_bids\n",
    "from scipy.signal import butter, filtfilt\n",
    "from mne.time_frequency import tfr_multitaper\n",
    "import seaborn as sb\n",
    "from mpl_toolkits.mplot3d import Axes3D\n",
    "from matplotlib.backends.backend_tkagg import FigureCanvasTkAgg, NavigationToolbar2Tk\n",
    "import tkinter as tk\n",
    "\n",
    "\n",
    "\n",
    "import mne\n",
    "from mne.viz import plot_alignment, snapshot_brain_montage\n",
    "import mne_bids\n",
    "from mne.channels import make_standard_montage"
   ]
  },
  {
   "cell_type": "code",
   "execution_count": null,
   "id": "5fe20951-3a92-4953-a379-42c3962dd8a0",
   "metadata": {},
   "outputs": [],
   "source": [
    "import pandas as pd"
   ]
  },
  {
   "cell_type": "code",
   "execution_count": null,
   "id": "d64bca15-ddd4-4e75-9833-d5296307fb45",
   "metadata": {},
   "outputs": [],
   "source": [
    "import warnings\n",
    "warnings.filterwarnings('once')"
   ]
  },
  {
   "cell_type": "code",
   "execution_count": null,
   "id": "4f335077-b291-493a-b0d9-6ce7391871c7",
   "metadata": {},
   "outputs": [],
   "source": [
    "\"\"\"\n",
    "This file is to be run after the pooling file. The goal of it is to concatenate all of the dataframes so we have 3 seperate frames\n",
    "one of GNS, one for GS, and one for NGNS\n",
    "\"\"\""
   ]
  },
  {
   "cell_type": "code",
   "execution_count": null,
   "id": "5c8f3280-eb4e-45c2-ba05-9a4d69805c5b",
   "metadata": {},
   "outputs": [],
   "source": [
    "#Upload and pool all the subject data\n",
    "sub_list = ['S2', 'S4', 'S5', 'S6', 'S7', 'S8','S9', 'S10', 'S11', 'S12', 'S13', 'S14', 'S15', 'S16']"
   ]
  },
  {
   "cell_type": "code",
   "execution_count": null,
   "id": "f2d43645-5745-44e8-b766-9ebe56afe63f",
   "metadata": {},
   "outputs": [],
   "source": [
    "concat_ng = []\n",
    "concat_gns = []\n",
    "concat_ngns = []\n",
    "remain_ng = []\n",
    "remain_gns = []\n",
    "remain_ngns = []"
   ]
  },
  {
   "cell_type": "code",
   "execution_count": null,
   "id": "6ffbf178-0762-4d2f-b304-27e41dab9e49",
   "metadata": {},
   "outputs": [],
   "source": [
    "GS = 'GS'\n",
    "GNS = 'GNS'\n",
    "NGNS = 'NGNS'"
   ]
  },
  {
   "cell_type": "code",
   "execution_count": null,
   "id": "67de8387-e839-467d-99dd-1fd000a8ad8c",
   "metadata": {},
   "outputs": [],
   "source": [
    "#Import in elec_table so only valid electrodes remain in the analysis<- change paths to meet your directory structure"
   ]
  },
  {
   "cell_type": "code",
   "execution_count": null,
   "id": "3832e3d9-15b8-4ed8-a8a1-9d5edd5879a8",
   "metadata": {},
   "outputs": [],
   "source": [
    "elec_path = \"/Volumes/Expansion/4WT/COLLAB-CODE/Alliyah/Sub-Mat-Converted/elecFinal.mat\" #This will stay static for every participant once its changed to the correct path                          "
   ]
  },
  {
   "cell_type": "code",
   "execution_count": null,
   "id": "37369a8c-d145-4f0d-9e54-0ecd78bc1fab",
   "metadata": {},
   "outputs": [],
   "source": [
    "elec_raw = scipy.io.loadmat(elec_path, squeeze_me=True, simplify_cells = True, struct_as_record = False)"
   ]
  },
  {
   "cell_type": "code",
   "execution_count": null,
   "id": "757be4e6-a7d8-42b3-9efb-4bd88163968f",
   "metadata": {},
   "outputs": [],
   "source": [
    "elec_frame = pd.DataFrame(elec_raw['elec_out'])"
   ]
  },
  {
   "cell_type": "code",
   "execution_count": null,
   "id": "d67250b6-733c-4173-8a51-5800c1fe4fac",
   "metadata": {
    "scrolled": true
   },
   "outputs": [],
   "source": [
    "#For loop to concatenate files, remove rejects, and delete any NA rows\n",
    "#Print statements available for debugging can be commented out if unneccesary \n",
    "for i,sub in enumerate(sub_list):\n",
    "    #Create standard path\n",
    "    gen_path = './'+sub+'_' \n",
    "    add_path = '_Correct'\n",
    "    #Create three generated paths\n",
    "    gs_path = gen_path+GS+add_path+'.csv.gz'\n",
    "    gns_path = gen_path+GNS+add_path+'.csv.gz'\n",
    "    ngns_path = gen_path+NGNS+add_path+'.csv.gz'\n",
    "    #load files\n",
    "    gs_frame = pd.read_csv(gs_path)\n",
    "    gns_frame = pd.read_csv(gns_path)\n",
    "    ngns_frame = pd.read_csv(ngns_path)\n",
    "    #Add subject id\n",
    "    sub_id = int(sub[1:])\n",
    "    print('This is id', sub_id)\n",
    "    gs_frame['sub_id']= sub_id\n",
    "    gns_frame['sub_id'] = sub_id\n",
    "    ngns_frame['sub_id'] = sub_id\n",
    "    #remove reject electrodes\n",
    "    reject_data = list(elec_frame[(elec_frame['subjectNum'] == sub_id) & (\n",
    "                          (elec_frame['isRejectFSL'] == 1) |\n",
    "                          (elec_frame['isRejectManual'] == 1) | (elec_frame['isRejectFSL'] == 1))]['elecNum'])\n",
    "    \n",
    "    reject_data_new = list(set(reject_data) & set(gs_frame.index))\n",
    "    if(len(reject_data_new) < len(reject_data)):\n",
    "        print(sub, \"Mismatch\")\n",
    "        print(len(reject_data))\n",
    "        print(len(reject_data_new))\n",
    "    print(reject_data)\n",
    "    gs_frame.drop(reject_data_new,inplace = True)\n",
    "    gns_frame.drop(reject_data_new, inplace = True)\n",
    "    ngns_frame.drop(reject_data_new, inplace = True)\n",
    "    #remove Na's\n",
    "    gs_frame.replace(np.nan, pd.NA).dropna(axis=1)\n",
    "    gns_frame.replace(np.nan, pd.NA).dropna(axis=1)\n",
    "    ngns_frame.replace(np.nan, pd.NA).dropna(axis=1)\n",
    "    \n",
    "    gs_frame.dropna(how = 'any' ,inplace = True)\n",
    "    gns_frame.dropna(how = 'any' ,inplace = True)\n",
    "    ngns_frame.dropna(how = 'any' ,inplace = True)\n",
    "    #check\n",
    "    #Add to lists\n",
    "   \n",
    "    concat_ng.append(gs_frame)\n",
    "    concat_gns.append(gns_frame)\n",
    "    concat_ngns.append(ngns_frame)\n",
    "  "
   ]
  },
  {
   "cell_type": "code",
   "execution_count": null,
   "id": "94543a6b-713a-4ac1-9a8b-01a38f85620d",
   "metadata": {},
   "outputs": [],
   "source": [
    "#Code underneath makes sure columns align before attempting final concats"
   ]
  },
  {
   "cell_type": "code",
   "execution_count": null,
   "id": "06f80da1-d2bc-4dba-a95a-a5fd2776d1cd",
   "metadata": {},
   "outputs": [],
   "source": [
    "selected_columns = [str(i) for i in range(151)] + ['sub_id']\n",
    "\n",
    "selected_columns"
   ]
  },
  {
   "cell_type": "code",
   "execution_count": null,
   "id": "b98724b6-9d2d-457f-9ba3-f7c61692abcf",
   "metadata": {},
   "outputs": [],
   "source": [
    "# Concatenate the selected columns from each DataFrame\n",
    "gs_elec = pd.concat([df[selected_columns] for df in concat_ng])\n",
    "gns_elec = pd.concat([df[selected_columns] for df in concat_gns])"
   ]
  },
  {
   "cell_type": "code",
   "execution_count": null,
   "id": "f95578df-0b2e-4fb7-aa11-23d937acbc6a",
   "metadata": {},
   "outputs": [],
   "source": [
    "for df in concat_ngns:\n",
    "    if '150' not in df.columns:\n",
    "        print(df['sub_id'][0])"
   ]
  },
  {
   "cell_type": "code",
   "execution_count": null,
   "id": "d4a2a4ef-3466-41c2-a174-cffd163cef57",
   "metadata": {},
   "outputs": [],
   "source": [
    "ngns_elec = pd.concat([df[selected_columns] for df in concat_ngns])"
   ]
  },
  {
   "cell_type": "code",
   "execution_count": null,
   "id": "724605d7-f443-4273-824f-7ad88d7d355b",
   "metadata": {},
   "outputs": [],
   "source": [
    "gs_elec.dropna(how = 'any', inplace = True)\n",
    "gns_elec.dropna(how = 'any', inplace = True)\n",
    "ngns_elec.dropna(how = 'any', inplace = True)"
   ]
  },
  {
   "cell_type": "code",
   "execution_count": null,
   "id": "d691ada9-672a-4a89-83cf-0b028bd389e4",
   "metadata": {},
   "outputs": [],
   "source": [
    "gs_elec.isna().count()"
   ]
  },
  {
   "cell_type": "code",
   "execution_count": null,
   "id": "921fcb91-b51b-4bbb-ab1c-fcb3ed1723bc",
   "metadata": {},
   "outputs": [],
   "source": [
    "ngns_elec"
   ]
  },
  {
   "cell_type": "code",
   "execution_count": null,
   "id": "882ac00a-898d-4919-9d9d-6c3277e1327d",
   "metadata": {},
   "outputs": [],
   "source": [
    "#Remove the rejects"
   ]
  },
  {
   "cell_type": "code",
   "execution_count": null,
   "id": "1254f300-a2cc-4ca3-9923-46d0782ccfc6",
   "metadata": {},
   "outputs": [],
   "source": [
    "gs_elec['type'] = 'GS'\n",
    "gns_elec['type'] = 'GNS'\n",
    "ngns_elec['type'] = 'NGNS'"
   ]
  },
  {
   "cell_type": "code",
   "execution_count": null,
   "id": "9620a3a9-9b93-459c-b95c-76f1be1ee306",
   "metadata": {},
   "outputs": [],
   "source": [
    "gs_elec.isna().count()"
   ]
  },
  {
   "cell_type": "code",
   "execution_count": null,
   "id": "3c58d32b-54cf-493c-9028-b50bde01a1b5",
   "metadata": {},
   "outputs": [],
   "source": [
    "gs_elec.to_csv('GS_corr.csv.gz', compression = 'gzip')\n",
    "gns_elec.to_csv('GNS_corr.csv.gz', compression = 'gzip')\n",
    "ngns_elec.to_csv('NGNS_corr.csv.gz', compression = 'gzip')"
   ]
  },
  {
   "cell_type": "code",
   "execution_count": null,
   "id": "c9034c44-b411-4144-bfa3-f581f8bce745",
   "metadata": {},
   "outputs": [],
   "source": [
    "gns_elec"
   ]
  },
  {
   "cell_type": "code",
   "execution_count": null,
   "id": "844b119f-1500-4df9-a314-ac85102847bb",
   "metadata": {},
   "outputs": [],
   "source": [
    "ngns_elec"
   ]
  },
  {
   "cell_type": "code",
   "execution_count": null,
   "id": "35f6be0d-0eed-4053-ae19-854e53b2ee95",
   "metadata": {},
   "outputs": [],
   "source": [
    "#Below here is deprecated code that could be ulitized to attempt to include subjects 1 and 3 <- is not fully functional though"
   ]
  },
  {
   "cell_type": "code",
   "execution_count": null,
   "id": "1542ec6b-4199-483b-9bc8-f0c8f080f0e7",
   "metadata": {},
   "outputs": [],
   "source": [
    "lister = remain_gns[1:4]"
   ]
  },
  {
   "cell_type": "code",
   "execution_count": null,
   "id": "4ed52814-c760-45cf-b737-96e31690291f",
   "metadata": {},
   "outputs": [],
   "source": [
    "lister.append(remain_gns[5])"
   ]
  },
  {
   "cell_type": "code",
   "execution_count": null,
   "id": "a86e579b-ef27-43e7-92ed-929f6678e588",
   "metadata": {},
   "outputs": [],
   "source": [
    "analyze = pd.concat(lister, ignore_index = True)"
   ]
  },
  {
   "cell_type": "code",
   "execution_count": null,
   "id": "e4708253-43e0-478c-b818-d2db7fbe653a",
   "metadata": {},
   "outputs": [],
   "source": [
    "analyze"
   ]
  },
  {
   "cell_type": "code",
   "execution_count": null,
   "id": "6f564c92-137f-4a0b-a897-4bc8b0df86cb",
   "metadata": {},
   "outputs": [],
   "source": [
    "list_154 = [remain_gns[4], remain_gns[6]]"
   ]
  },
  {
   "cell_type": "code",
   "execution_count": null,
   "id": "4176bc9c-a3d4-4334-b651-4ed039aa077b",
   "metadata": {},
   "outputs": [],
   "source": [
    "analyze2 = pd.concat(list_154, ignore_index = True)"
   ]
  },
  {
   "cell_type": "code",
   "execution_count": null,
   "id": "9a1cbfc2-efd2-4a6f-b38c-788efcbaa8e4",
   "metadata": {},
   "outputs": [],
   "source": [
    "list_154_2 = [remain_gns[4], remain_gns[6]]"
   ]
  },
  {
   "cell_type": "code",
   "execution_count": null,
   "id": "436d7918-3618-4503-b353-93d6e02fffa5",
   "metadata": {},
   "outputs": [],
   "source": [
    "analyze3 = pd.concat(list_154_2, ignore_index = True)"
   ]
  },
  {
   "cell_type": "code",
   "execution_count": null,
   "id": "a79fee60-4858-4717-a4f0-8104942f3947",
   "metadata": {},
   "outputs": [],
   "source": [
    "list_154_3 = [remain_ngns[4], remain_ngns[6]]\n",
    "analyze4 = pd.concat(list_154_3, ignore_index = True)"
   ]
  },
  {
   "cell_type": "code",
   "execution_count": null,
   "id": "2290df33-41ec-4061-bfb4-0e6b96269a3e",
   "metadata": {},
   "outputs": [],
   "source": [
    "analyze2"
   ]
  },
  {
   "cell_type": "code",
   "execution_count": null,
   "id": "b360f173-9ea8-4306-b5ec-e0670f2438ff",
   "metadata": {},
   "outputs": [],
   "source": [
    "list(analyze2.columns)"
   ]
  },
  {
   "cell_type": "code",
   "execution_count": null,
   "id": "a20ecf3f-9542-4bc3-b899-401eb59f1612",
   "metadata": {},
   "outputs": [],
   "source": [
    "analyze2.drop(['Unnamed: 0'],axis = 1, inplace = True)"
   ]
  },
  {
   "cell_type": "code",
   "execution_count": null,
   "id": "01a14ed7-646b-40e0-bc5b-1099b72ae504",
   "metadata": {},
   "outputs": [],
   "source": [
    "analyze2.shape"
   ]
  },
  {
   "cell_type": "code",
   "execution_count": null,
   "id": "9d7e3bcf-c3b2-4b7f-9d03-2f60655b51ee",
   "metadata": {},
   "outputs": [],
   "source": [
    "analyze3.drop(['Unnamed: 0'],axis = 1, inplace = True)\n",
    "analyze4.drop(['Unnamed: 0'],axis = 1, inplace = True)"
   ]
  },
  {
   "cell_type": "code",
   "execution_count": null,
   "id": "edc8ad64-343d-435b-a604-6997e5e5785b",
   "metadata": {},
   "outputs": [],
   "source": [
    "analyze2['type'] = 'NG'\n",
    "analyze3['type'] = 'GNS'\n",
    "analyze4['type'] = 'NGNS'"
   ]
  },
  {
   "cell_type": "code",
   "execution_count": null,
   "id": "7179ef92-50c3-4a72-a344-463d191ad897",
   "metadata": {},
   "outputs": [],
   "source": [
    "ng_elec_pool = pd.concat([ng_elec, analyze2], ignore_index = True)\n",
    "gns_elec_pool = pd.concat([gns_elec, analyze3], ignore_index = True)\n",
    "ngns_elec_pool = pd.concat([ngns_elec, analyze4], ignore_index = True)"
   ]
  },
  {
   "cell_type": "code",
   "execution_count": null,
   "id": "ac4359d6-1484-4fba-af17-7257fcc4bd25",
   "metadata": {},
   "outputs": [],
   "source": [
    "ng_elec_pool"
   ]
  },
  {
   "cell_type": "code",
   "execution_count": null,
   "id": "681c2165-8a49-4be3-b65e-d8e70daa5391",
   "metadata": {},
   "outputs": [],
   "source": [
    "remain_ng.pop(6)"
   ]
  },
  {
   "cell_type": "code",
   "execution_count": null,
   "id": "ed5f0081-83c4-48f4-b19c-41ef5c7d7dae",
   "metadata": {},
   "outputs": [],
   "source": [
    "len(remain_ng)"
   ]
  },
  {
   "cell_type": "code",
   "execution_count": null,
   "id": "798c923c-2205-4358-ad63-af988d1be64c",
   "metadata": {},
   "outputs": [],
   "source": [
    "remain_ng.pop(4)"
   ]
  },
  {
   "cell_type": "code",
   "execution_count": null,
   "id": "9546d1af-bc33-4bea-a18e-fe8022311a80",
   "metadata": {},
   "outputs": [],
   "source": [
    "for frame in remain_ng:\n",
    "    print('sub ',frame.loc[0,'sub_id'])\n",
    "    print(frame.shape)"
   ]
  },
  {
   "cell_type": "code",
   "execution_count": null,
   "id": "0b888336-0baa-4408-b0c9-848c4cf0beae",
   "metadata": {},
   "outputs": [],
   "source": [
    "analyze.columns"
   ]
  },
  {
   "cell_type": "code",
   "execution_count": null,
   "id": "0163b471-b41c-4f5c-b0a5-4e2c43a95663",
   "metadata": {},
   "outputs": [],
   "source": [
    "analyze.drop(['Unnamed: 0','151'152', '153', '154', '155', '156'], axis = 1, inplace = True)"
   ]
  },
  {
   "cell_type": "code",
   "execution_count": null,
   "id": "d88ea23d-ad54-4433-9ee0-ee559ea88348",
   "metadata": {},
   "outputs": [],
   "source": [
    "analyze.shape"
   ]
  },
  {
   "cell_type": "code",
   "execution_count": null,
   "id": "077f13f5-96bf-4d56-ba1e-809f3f60912d",
   "metadata": {},
   "outputs": [],
   "source": [
    "analyze['Type'] = 'NG'"
   ]
  },
  {
   "cell_type": "code",
   "execution_count": null,
   "id": "9c5f52dd-85e1-4af3-b7e5-134cf3a2a24f",
   "metadata": {},
   "outputs": [],
   "source": [
    "analyze"
   ]
  },
  {
   "cell_type": "code",
   "execution_count": null,
   "id": "a373bd72-90ac-4a63-bd95-41ebb22a6a97",
   "metadata": {},
   "outputs": [],
   "source": [
    "gns_elec_pool"
   ]
  },
  {
   "cell_type": "code",
   "execution_count": null,
   "id": "bc8be7bc-3ab7-487b-a177-19617d6f8fde",
   "metadata": {},
   "outputs": [],
   "source": [
    "len(remain_gns)"
   ]
  },
  {
   "cell_type": "code",
   "execution_count": null,
   "id": "791f05b3-1d7a-4e08-85d7-47b6c66b0629",
   "metadata": {},
   "outputs": [],
   "source": [
    "gns_elec_pool"
   ]
  },
  {
   "cell_type": "code",
   "execution_count": null,
   "id": "d6c803f1-0c1c-437e-a756-7aff368e3c18",
   "metadata": {},
   "outputs": [],
   "source": [
    "ngns_elec_pool['sub_id'].value_counts()"
   ]
  },
  {
   "cell_type": "code",
   "execution_count": null,
   "id": "33ee0ad6-9630-49db-ad29-ab85ac90b957",
   "metadata": {},
   "outputs": [],
   "source": [
    "ng_elec_pool_total"
   ]
  },
  {
   "cell_type": "code",
   "execution_count": null,
   "id": "80246df7-4d55-46f1-b7d8-850f0cb42f1a",
   "metadata": {},
   "outputs": [],
   "source": [
    "ngns_elec_pool"
   ]
  },
  {
   "cell_type": "code",
   "execution_count": null,
   "id": "e7470fc5-379e-489d-a0fa-be8eefdd98fd",
   "metadata": {},
   "outputs": [],
   "source": [
    "lister = remain_gns[1:4]"
   ]
  },
  {
   "cell_type": "code",
   "execution_count": null,
   "id": "8f4dee59-3c2e-4018-bf4a-8e43c3ea721c",
   "metadata": {},
   "outputs": [],
   "source": [
    "lister.append(remain_gns[5])"
   ]
  },
  {
   "cell_type": "code",
   "execution_count": null,
   "id": "01f1b4cc-36d1-44c2-a32a-454cb599a1ed",
   "metadata": {},
   "outputs": [],
   "source": [
    "analyze = pd.concat(lister, ignore_index = True)"
   ]
  },
  {
   "cell_type": "code",
   "execution_count": null,
   "id": "6ff2e30b-8d06-40c1-b0e1-e229c5702ec1",
   "metadata": {},
   "outputs": [],
   "source": [
    "remain_gns.pop(6)"
   ]
  },
  {
   "cell_type": "code",
   "execution_count": null,
   "id": "6fb8a49f-c27e-437d-a7b4-c80301613560",
   "metadata": {},
   "outputs": [],
   "source": [
    "remain_gns.pop(4)"
   ]
  },
  {
   "cell_type": "code",
   "execution_count": null,
   "id": "e96465d3-a02c-4045-9e93-155f1594522a",
   "metadata": {},
   "outputs": [],
   "source": [
    "analyze.drop(['Unnamed: 0','151','152', '153', '154', '155', '156'], axis = 1, inplace = True)"
   ]
  },
  {
   "cell_type": "code",
   "execution_count": null,
   "id": "0b7c74be-e9d9-487e-98e5-df762b5f0e3a",
   "metadata": {},
   "outputs": [],
   "source": [
    "analyze['type'] = 'GNS'"
   ]
  },
  {
   "cell_type": "code",
   "execution_count": null,
   "id": "1e669cec-382b-4052-b0db-807dc811da3e",
   "metadata": {},
   "outputs": [],
   "source": [
    "gns_elec_pool_total = pd.concat([gns_elec_pool, analyze], ignore_index = True)"
   ]
  },
  {
   "cell_type": "code",
   "execution_count": null,
   "id": "d34adac3-cf25-4387-b6f7-28af4831a80c",
   "metadata": {},
   "outputs": [],
   "source": [
    "gns_elec_pool_total"
   ]
  },
  {
   "cell_type": "code",
   "execution_count": null,
   "id": "2f5eeac5-cd72-495d-857c-4eeb6f1621e6",
   "metadata": {},
   "outputs": [],
   "source": [
    "gns_elec_pool_total.to_csv('gns_elec_total.csv.gz', compression = 'gzip')"
   ]
  },
  {
   "cell_type": "code",
   "execution_count": null,
   "id": "f752ddd8-edfe-449f-8970-49fa25ef0bbf",
   "metadata": {},
   "outputs": [],
   "source": [
    "#Behavioral"
   ]
  },
  {
   "cell_type": "code",
   "execution_count": null,
   "id": "f50d4075-26dd-49ea-b835-b09a9824d37b",
   "metadata": {},
   "outputs": [],
   "source": [
    "sentence_frame = pd.read_csv('sentence_data.csv.gz', compression = 'gzip')"
   ]
  },
  {
   "cell_type": "code",
   "execution_count": null,
   "id": "d72ee2c6-9dcb-48ad-8c90-7f1cab65c94c",
   "metadata": {},
   "outputs": [],
   "source": [
    "sentence_frame.drop(['Unnamed: 0'], axis = 1, inplace = True)"
   ]
  },
  {
   "cell_type": "code",
   "execution_count": null,
   "id": "995649fb-41fd-4746-ab65-7b909e9b71dc",
   "metadata": {},
   "outputs": [],
   "source": []
  }
 ],
 "metadata": {
  "kernelspec": {
   "display_name": "Python 3 (ipykernel)",
   "language": "python",
   "name": "python3"
  },
  "language_info": {
   "codemirror_mode": {
    "name": "ipython",
    "version": 3
   },
   "file_extension": ".py",
   "mimetype": "text/x-python",
   "name": "python",
   "nbconvert_exporter": "python",
   "pygments_lexer": "ipython3",
   "version": "3.12.4"
  }
 },
 "nbformat": 4,
 "nbformat_minor": 5
}
