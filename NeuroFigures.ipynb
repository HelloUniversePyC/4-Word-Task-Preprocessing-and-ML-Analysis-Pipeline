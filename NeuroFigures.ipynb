{
 "cells": [
  {
   "cell_type": "code",
   "execution_count": 1,
   "id": "778228b1-3106-41fc-b8b2-23b347e577bb",
   "metadata": {},
   "outputs": [],
   "source": [
    "import wheel\n",
    "import numpy as np\n",
    "import sklearn as skl\n",
    "from mat4py import loadmat\n",
    "import scipy.io\n",
    "import csv\n",
    "import struct\n",
    "import h5py\n",
    "import matplotlib.pyplot as plt\n",
    "import numpy as np\n",
    "from matplotlib import colormaps\n",
    "#from mne_bids import BIDSPath, read_raw_bids\n",
    "from scipy import stats\n",
    "from scipy.signal import butter, filtfilt,welch\n",
    "from scipy.stats import zscore \n",
    "#from mne.time_frequency import tfr_multitaper\n",
    "import seaborn as sb\n",
    "from mpl_toolkits.mplot3d import Axes3D\n",
    "from matplotlib.backends.backend_tkagg import FigureCanvasTkAgg, NavigationToolbar2Tk\n",
    "import tkinter as tk\n",
    "import seaborn as sns\n",
    "import statsmodels.api as sm\n",
    "from tqdm import tqdm\n",
    "\n",
    "#import mne\n",
    "#from mne.viz import plot_alignment, snapshot_brain_montage\n",
    "#import mne_bids\n",
    "#from mne.channels import make_standard_montage\n",
    "\n",
    "from sklearn.model_selection import train_test_split\n",
    "import pickle\n",
    "import os\n",
    "import dask\n",
    "import dask.dataframe as dd\n",
    "import statsmodels.api as sm\n"
   ]
  },
  {
   "cell_type": "code",
   "execution_count": 2,
   "id": "d5139f3d-e6cd-423f-9720-4f8bd3be7ba9",
   "metadata": {},
   "outputs": [],
   "source": [
    "import matplotlib.pyplot as plt\n",
    "from matplotlib.colors import LinearSegmentedColormap\n",
    "import numpy as np\n",
    "from matplotlib import colormaps\n",
    "from mne_bids import BIDSPath, read_raw_bids\n",
    "from scipy.signal import butter, filtfilt\n",
    "from mne.time_frequency import tfr_multitaper\n",
    "import seaborn as sb\n",
    "from mpl_toolkits.mplot3d import Axes3D\n",
    "from matplotlib.backends.backend_tkagg import FigureCanvasTkAgg, NavigationToolbar2Tk\n",
    "import tkinter as tk\n",
    "\n",
    "\n",
    "\n",
    "import mne\n",
    "from mne.viz import plot_alignment, snapshot_brain_montage\n",
    "import mne_bids\n",
    "from mne.channels import make_standard_montage\n",
    "from mne.datasets import fetch_fsaverage\n",
    "from mne.surface import get_meg_helmet_surf"
   ]
  },
  {
   "cell_type": "code",
   "execution_count": 4,
   "id": "3e08ebcc-8c71-4682-8abd-e232cc6d9b02",
   "metadata": {},
   "outputs": [],
   "source": [
    "import pandas as pd"
   ]
  },
  {
   "cell_type": "code",
   "execution_count": 5,
   "id": "ddee2349-3b79-4d02-af1a-03ccc84dc7ff",
   "metadata": {},
   "outputs": [],
   "source": [
    "import warnings\n",
    "warnings.filterwarnings('once')"
   ]
  },
  {
   "cell_type": "code",
   "execution_count": 6,
   "id": "4df939c1-4068-4f36-8713-dd7e0551e575",
   "metadata": {},
   "outputs": [],
   "source": [
    "s14_glm = pd.read_csv('/Users/klab/S14_GLM.csv.gz')"
   ]
  },
  {
   "cell_type": "code",
   "execution_count": 7,
   "id": "5f87e6bd-eca9-4d34-a155-d5af0fd2edd6",
   "metadata": {},
   "outputs": [],
   "source": [
    "s14_glm = s14_glm[['Electrode', 'R-squared']]"
   ]
  },
  {
   "cell_type": "code",
   "execution_count": 8,
   "id": "56830c63-0315-4862-a0bb-be7e51ede0f4",
   "metadata": {},
   "outputs": [],
   "source": [
    "s14_glm.dropna(inplace = True)"
   ]
  },
  {
   "cell_type": "code",
   "execution_count": 9,
   "id": "baa9c216-cca9-4e63-85be-3992d9fed7a0",
   "metadata": {},
   "outputs": [
    {
     "data": {
      "text/plain": [
       "0"
      ]
     },
     "execution_count": 9,
     "metadata": {},
     "output_type": "execute_result"
    }
   ],
   "source": [
    "s14_glm['R-squared'].isna().sum()"
   ]
  },
  {
   "cell_type": "code",
   "execution_count": 10,
   "id": "97748212-cc59-4ed6-b3c5-382e570e9a0d",
   "metadata": {},
   "outputs": [
    {
     "data": {
      "text/plain": [
       "dtype('float64')"
      ]
     },
     "execution_count": 10,
     "metadata": {},
     "output_type": "execute_result"
    }
   ],
   "source": [
    "s14_glm['R-squared'].dtypes"
   ]
  },
  {
   "cell_type": "code",
   "execution_count": 11,
   "id": "cf439e4b-1d15-4bc3-bc7a-f68cb973c4af",
   "metadata": {},
   "outputs": [
    {
     "data": {
      "text/html": [
       "<div>\n",
       "<style scoped>\n",
       "    .dataframe tbody tr th:only-of-type {\n",
       "        vertical-align: middle;\n",
       "    }\n",
       "\n",
       "    .dataframe tbody tr th {\n",
       "        vertical-align: top;\n",
       "    }\n",
       "\n",
       "    .dataframe thead th {\n",
       "        text-align: right;\n",
       "    }\n",
       "</style>\n",
       "<table border=\"1\" class=\"dataframe\">\n",
       "  <thead>\n",
       "    <tr style=\"text-align: right;\">\n",
       "      <th></th>\n",
       "      <th>Electrode</th>\n",
       "      <th>R-squared</th>\n",
       "    </tr>\n",
       "  </thead>\n",
       "  <tbody>\n",
       "    <tr>\n",
       "      <th>0</th>\n",
       "      <td>1</td>\n",
       "      <td>0.213177</td>\n",
       "    </tr>\n",
       "    <tr>\n",
       "      <th>1</th>\n",
       "      <td>4</td>\n",
       "      <td>0.126774</td>\n",
       "    </tr>\n",
       "    <tr>\n",
       "      <th>2</th>\n",
       "      <td>6</td>\n",
       "      <td>0.890310</td>\n",
       "    </tr>\n",
       "    <tr>\n",
       "      <th>3</th>\n",
       "      <td>8</td>\n",
       "      <td>0.628641</td>\n",
       "    </tr>\n",
       "    <tr>\n",
       "      <th>4</th>\n",
       "      <td>9</td>\n",
       "      <td>0.688041</td>\n",
       "    </tr>\n",
       "    <tr>\n",
       "      <th>...</th>\n",
       "      <td>...</td>\n",
       "      <td>...</td>\n",
       "    </tr>\n",
       "    <tr>\n",
       "      <th>108</th>\n",
       "      <td>155</td>\n",
       "      <td>-0.232720</td>\n",
       "    </tr>\n",
       "    <tr>\n",
       "      <th>109</th>\n",
       "      <td>156</td>\n",
       "      <td>-0.297728</td>\n",
       "    </tr>\n",
       "    <tr>\n",
       "      <th>110</th>\n",
       "      <td>157</td>\n",
       "      <td>0.676739</td>\n",
       "    </tr>\n",
       "    <tr>\n",
       "      <th>111</th>\n",
       "      <td>159</td>\n",
       "      <td>0.513606</td>\n",
       "    </tr>\n",
       "    <tr>\n",
       "      <th>112</th>\n",
       "      <td>160</td>\n",
       "      <td>0.287497</td>\n",
       "    </tr>\n",
       "  </tbody>\n",
       "</table>\n",
       "<p>113 rows × 2 columns</p>\n",
       "</div>"
      ],
      "text/plain": [
       "     Electrode  R-squared\n",
       "0            1   0.213177\n",
       "1            4   0.126774\n",
       "2            6   0.890310\n",
       "3            8   0.628641\n",
       "4            9   0.688041\n",
       "..         ...        ...\n",
       "108        155  -0.232720\n",
       "109        156  -0.297728\n",
       "110        157   0.676739\n",
       "111        159   0.513606\n",
       "112        160   0.287497\n",
       "\n",
       "[113 rows x 2 columns]"
      ]
     },
     "execution_count": 11,
     "metadata": {},
     "output_type": "execute_result"
    }
   ],
   "source": [
    "s14_glm"
   ]
  },
  {
   "cell_type": "code",
   "execution_count": 12,
   "id": "f6ac3da5-7752-4cad-a418-644470684a53",
   "metadata": {},
   "outputs": [],
   "source": [
    "if 'brain' in locals():\n",
    "    brain.close() \n",
    "plt.close('all')"
   ]
  },
  {
   "cell_type": "code",
   "execution_count": 13,
   "id": "7c524104-d90a-48d1-8260-40fa0aa43076",
   "metadata": {},
   "outputs": [
    {
     "data": {
      "text/plain": [
       "0        1\n",
       "1        4\n",
       "2        6\n",
       "3        8\n",
       "4        9\n",
       "      ... \n",
       "108    155\n",
       "109    156\n",
       "110    157\n",
       "111    159\n",
       "112    160\n",
       "Name: Electrode, Length: 113, dtype: int64"
      ]
     },
     "execution_count": 13,
     "metadata": {},
     "output_type": "execute_result"
    }
   ],
   "source": [
    "s14_glm['Electrode']"
   ]
  },
  {
   "cell_type": "code",
   "execution_count": 14,
   "id": "81f80bb9-a60f-4cc6-ad47-8005fde6b149",
   "metadata": {},
   "outputs": [],
   "source": [
    "elec_path = \"/Volumes/Expansion/4WT/COLLAB-CODE/Alliyah/Sub-Mat-Converted/elecFinal.mat\"\n",
    "elec_raw = scipy.io.loadmat(elec_path, squeeze_me=True, simplify_cells=True, struct_as_record=False)\n",
    "elec_frame = pd.DataFrame(elec_raw['elec_out'])\n",
    "subject_data = elec_frame[(elec_frame['subjectNum'] == 14) & \n",
    "                          (elec_frame['isRejectFSL'] != 1) & \n",
    "                          (elec_frame['isRejectManual'] != 1)]"
   ]
  },
  {
   "cell_type": "code",
   "execution_count": 15,
   "id": "f9c950f6-eaef-4a1a-aabf-a9c49cdc820d",
   "metadata": {},
   "outputs": [
    {
     "data": {
      "text/html": [
       "<div>\n",
       "<style scoped>\n",
       "    .dataframe tbody tr th:only-of-type {\n",
       "        vertical-align: middle;\n",
       "    }\n",
       "\n",
       "    .dataframe tbody tr th {\n",
       "        vertical-align: top;\n",
       "    }\n",
       "\n",
       "    .dataframe thead th {\n",
       "        text-align: right;\n",
       "    }\n",
       "</style>\n",
       "<table border=\"1\" class=\"dataframe\">\n",
       "  <thead>\n",
       "    <tr style=\"text-align: right;\">\n",
       "      <th></th>\n",
       "      <th>subjectNum</th>\n",
       "      <th>elecNum</th>\n",
       "      <th>isRejectManual</th>\n",
       "      <th>parcLabel</th>\n",
       "      <th>ctxParc</th>\n",
       "      <th>wmParc</th>\n",
       "      <th>isRejectFSL_2wm</th>\n",
       "      <th>isRejectFSL</th>\n",
       "      <th>isWM</th>\n",
       "      <th>unknown_wmParc</th>\n",
       "      <th>groupLabels</th>\n",
       "      <th>isLeft</th>\n",
       "      <th>groupAvgCoords</th>\n",
       "    </tr>\n",
       "  </thead>\n",
       "  <tbody>\n",
       "    <tr>\n",
       "      <th>1222</th>\n",
       "      <td>14</td>\n",
       "      <td>1</td>\n",
       "      <td>0</td>\n",
       "      <td>Amygdala</td>\n",
       "      <td>Left-Amygdala</td>\n",
       "      <td>unknown</td>\n",
       "      <td>0</td>\n",
       "      <td>0</td>\n",
       "      <td>0</td>\n",
       "      <td>1</td>\n",
       "      <td>A1 s14 e1</td>\n",
       "      <td>1</td>\n",
       "      <td>[-20.66945520855748, -7.462862992363426, -20.6...</td>\n",
       "    </tr>\n",
       "    <tr>\n",
       "      <th>1223</th>\n",
       "      <td>14</td>\n",
       "      <td>2</td>\n",
       "      <td>0</td>\n",
       "      <td>Amygdala</td>\n",
       "      <td>Left-Amygdala</td>\n",
       "      <td>unknown</td>\n",
       "      <td>0</td>\n",
       "      <td>0</td>\n",
       "      <td>0</td>\n",
       "      <td>1</td>\n",
       "      <td>A2 s14 e2</td>\n",
       "      <td>1</td>\n",
       "      <td>[-25.570836211066336, -7.854196984958605, -21....</td>\n",
       "    </tr>\n",
       "    <tr>\n",
       "      <th>1224</th>\n",
       "      <td>14</td>\n",
       "      <td>3</td>\n",
       "      <td>0</td>\n",
       "      <td>Amygdala</td>\n",
       "      <td>Left-Amygdala</td>\n",
       "      <td>unknown</td>\n",
       "      <td>0</td>\n",
       "      <td>0</td>\n",
       "      <td>0</td>\n",
       "      <td>1</td>\n",
       "      <td>A3 s14 e3</td>\n",
       "      <td>1</td>\n",
       "      <td>[-31.603781208333885, -7.637026966307474, -21....</td>\n",
       "    </tr>\n",
       "    <tr>\n",
       "      <th>1225</th>\n",
       "      <td>14</td>\n",
       "      <td>4</td>\n",
       "      <td>0</td>\n",
       "      <td>Amygdala</td>\n",
       "      <td>Left-Amygdala</td>\n",
       "      <td>unknown</td>\n",
       "      <td>0</td>\n",
       "      <td>0</td>\n",
       "      <td>0</td>\n",
       "      <td>1</td>\n",
       "      <td>A4 s14 e4</td>\n",
       "      <td>1</td>\n",
       "      <td>[-36.46764970849537, -7.745825955144568, -21.5...</td>\n",
       "    </tr>\n",
       "    <tr>\n",
       "      <th>1226</th>\n",
       "      <td>14</td>\n",
       "      <td>6</td>\n",
       "      <td>0</td>\n",
       "      <td>G_temporal_middle</td>\n",
       "      <td>Left-Cerebral-White-Matter</td>\n",
       "      <td>G_temporal_middle</td>\n",
       "      <td>0</td>\n",
       "      <td>0</td>\n",
       "      <td>1</td>\n",
       "      <td>0</td>\n",
       "      <td>A6 s14 e6</td>\n",
       "      <td>1</td>\n",
       "      <td>[-46.49703395868164, -7.952565431886228, -22.1...</td>\n",
       "    </tr>\n",
       "    <tr>\n",
       "      <th>...</th>\n",
       "      <td>...</td>\n",
       "      <td>...</td>\n",
       "      <td>...</td>\n",
       "      <td>...</td>\n",
       "      <td>...</td>\n",
       "      <td>...</td>\n",
       "      <td>...</td>\n",
       "      <td>...</td>\n",
       "      <td>...</td>\n",
       "      <td>...</td>\n",
       "      <td>...</td>\n",
       "      <td>...</td>\n",
       "      <td>...</td>\n",
       "    </tr>\n",
       "    <tr>\n",
       "      <th>1334</th>\n",
       "      <td>14</td>\n",
       "      <td>203</td>\n",
       "      <td>0</td>\n",
       "      <td>S_front_inf</td>\n",
       "      <td>ctx_lh_S_front_inf</td>\n",
       "      <td>S_front_inf</td>\n",
       "      <td>0</td>\n",
       "      <td>0</td>\n",
       "      <td>0</td>\n",
       "      <td>0</td>\n",
       "      <td>Z11 s14 e203</td>\n",
       "      <td>1</td>\n",
       "      <td>[-40.69156632624066, 31.526001819726673, 18.44...</td>\n",
       "    </tr>\n",
       "    <tr>\n",
       "      <th>1335</th>\n",
       "      <td>14</td>\n",
       "      <td>204</td>\n",
       "      <td>0</td>\n",
       "      <td>S_front_inf</td>\n",
       "      <td>Left-Cerebral-White-Matter</td>\n",
       "      <td>S_front_inf</td>\n",
       "      <td>0</td>\n",
       "      <td>0</td>\n",
       "      <td>1</td>\n",
       "      <td>0</td>\n",
       "      <td>Z12 s14 e204</td>\n",
       "      <td>1</td>\n",
       "      <td>[-40.79009475138574, 35.48510508820647, 21.515...</td>\n",
       "    </tr>\n",
       "    <tr>\n",
       "      <th>1336</th>\n",
       "      <td>14</td>\n",
       "      <td>205</td>\n",
       "      <td>0</td>\n",
       "      <td>G_front_middle</td>\n",
       "      <td>Left-Cerebral-White-Matter</td>\n",
       "      <td>G_front_middle</td>\n",
       "      <td>0</td>\n",
       "      <td>0</td>\n",
       "      <td>1</td>\n",
       "      <td>0</td>\n",
       "      <td>Z13 s14 e205</td>\n",
       "      <td>1</td>\n",
       "      <td>[-40.888510020131434, 39.444147506285105, 24.5...</td>\n",
       "    </tr>\n",
       "    <tr>\n",
       "      <th>1337</th>\n",
       "      <td>14</td>\n",
       "      <td>206</td>\n",
       "      <td>0</td>\n",
       "      <td>G_front_middle</td>\n",
       "      <td>ctx_lh_G_front_middle</td>\n",
       "      <td>G_front_middle</td>\n",
       "      <td>0</td>\n",
       "      <td>0</td>\n",
       "      <td>0</td>\n",
       "      <td>0</td>\n",
       "      <td>Z14 s14 e206</td>\n",
       "      <td>1</td>\n",
       "      <td>[-40.986925288877046, 43.40318992436377, 27.65...</td>\n",
       "    </tr>\n",
       "    <tr>\n",
       "      <th>1338</th>\n",
       "      <td>14</td>\n",
       "      <td>207</td>\n",
       "      <td>0</td>\n",
       "      <td>G_front_middle</td>\n",
       "      <td>ctx_lh_G_front_middle</td>\n",
       "      <td>G_front_middle</td>\n",
       "      <td>0</td>\n",
       "      <td>0</td>\n",
       "      <td>0</td>\n",
       "      <td>0</td>\n",
       "      <td>Z15 s14 e207</td>\n",
       "      <td>1</td>\n",
       "      <td>[-41.08545371402212, 47.36229319284355, 30.721...</td>\n",
       "    </tr>\n",
       "  </tbody>\n",
       "</table>\n",
       "<p>99 rows × 13 columns</p>\n",
       "</div>"
      ],
      "text/plain": [
       "      subjectNum  elecNum  isRejectManual          parcLabel  \\\n",
       "1222          14        1               0           Amygdala   \n",
       "1223          14        2               0           Amygdala   \n",
       "1224          14        3               0           Amygdala   \n",
       "1225          14        4               0           Amygdala   \n",
       "1226          14        6               0  G_temporal_middle   \n",
       "...          ...      ...             ...                ...   \n",
       "1334          14      203               0        S_front_inf   \n",
       "1335          14      204               0        S_front_inf   \n",
       "1336          14      205               0     G_front_middle   \n",
       "1337          14      206               0     G_front_middle   \n",
       "1338          14      207               0     G_front_middle   \n",
       "\n",
       "                         ctxParc             wmParc  isRejectFSL_2wm  \\\n",
       "1222               Left-Amygdala            unknown                0   \n",
       "1223               Left-Amygdala            unknown                0   \n",
       "1224               Left-Amygdala            unknown                0   \n",
       "1225               Left-Amygdala            unknown                0   \n",
       "1226  Left-Cerebral-White-Matter  G_temporal_middle                0   \n",
       "...                          ...                ...              ...   \n",
       "1334          ctx_lh_S_front_inf        S_front_inf                0   \n",
       "1335  Left-Cerebral-White-Matter        S_front_inf                0   \n",
       "1336  Left-Cerebral-White-Matter     G_front_middle                0   \n",
       "1337       ctx_lh_G_front_middle     G_front_middle                0   \n",
       "1338       ctx_lh_G_front_middle     G_front_middle                0   \n",
       "\n",
       "      isRejectFSL  isWM  unknown_wmParc   groupLabels  isLeft  \\\n",
       "1222            0     0               1     A1 s14 e1       1   \n",
       "1223            0     0               1     A2 s14 e2       1   \n",
       "1224            0     0               1     A3 s14 e3       1   \n",
       "1225            0     0               1     A4 s14 e4       1   \n",
       "1226            0     1               0     A6 s14 e6       1   \n",
       "...           ...   ...             ...           ...     ...   \n",
       "1334            0     0               0  Z11 s14 e203       1   \n",
       "1335            0     1               0  Z12 s14 e204       1   \n",
       "1336            0     1               0  Z13 s14 e205       1   \n",
       "1337            0     0               0  Z14 s14 e206       1   \n",
       "1338            0     0               0  Z15 s14 e207       1   \n",
       "\n",
       "                                         groupAvgCoords  \n",
       "1222  [-20.66945520855748, -7.462862992363426, -20.6...  \n",
       "1223  [-25.570836211066336, -7.854196984958605, -21....  \n",
       "1224  [-31.603781208333885, -7.637026966307474, -21....  \n",
       "1225  [-36.46764970849537, -7.745825955144568, -21.5...  \n",
       "1226  [-46.49703395868164, -7.952565431886228, -22.1...  \n",
       "...                                                 ...  \n",
       "1334  [-40.69156632624066, 31.526001819726673, 18.44...  \n",
       "1335  [-40.79009475138574, 35.48510508820647, 21.515...  \n",
       "1336  [-40.888510020131434, 39.444147506285105, 24.5...  \n",
       "1337  [-40.986925288877046, 43.40318992436377, 27.65...  \n",
       "1338  [-41.08545371402212, 47.36229319284355, 30.721...  \n",
       "\n",
       "[99 rows x 13 columns]"
      ]
     },
     "execution_count": 15,
     "metadata": {},
     "output_type": "execute_result"
    }
   ],
   "source": [
    "subject_data"
   ]
  },
  {
   "cell_type": "code",
   "execution_count": 16,
   "id": "e9abacbe-acf7-408b-84a6-fb1ab42d37da",
   "metadata": {},
   "outputs": [
    {
     "name": "stdout",
     "output_type": "stream",
     "text": [
      "[            nan             nan  1.26774101e-01             nan\n",
      "             nan  6.28641080e-01  6.88040669e-01  1.31851581e-01\n",
      " -2.22044605e-16  0.00000000e+00 -1.12397972e-01             nan\n",
      " -1.40272996e-01  3.80853304e-01             nan             nan\n",
      "  7.92523661e-01             nan             nan  0.00000000e+00\n",
      "             nan             nan             nan -7.37494045e-01\n",
      "  3.91773841e-01  8.25083816e-01             nan             nan\n",
      "             nan -9.03698503e-02 -2.55671452e-03  1.11022302e-16\n",
      " -3.57024678e-02 -7.14657721e-02             nan -8.20568018e-02\n",
      "  8.83548846e-01  2.17247225e-01 -5.99359626e-02  6.80657793e-01\n",
      "             nan             nan  5.18332868e-01             nan\n",
      "             nan -2.07302801e-01 -4.19881721e-01 -7.47682767e-01\n",
      "  1.80587199e-01  1.98118062e-03  1.09568922e-01  7.61919868e-02\n",
      "             nan             nan             nan             nan\n",
      "             nan -9.60795344e-01             nan             nan\n",
      "             nan             nan             nan             nan\n",
      "  9.49153352e-01             nan  3.60093576e-01             nan\n",
      " -5.60032088e-01  2.22448458e-02 -2.84318224e-01 -6.50057623e-01\n",
      "  4.22413412e-01  7.82364132e-02             nan  0.00000000e+00\n",
      "  9.96759984e-01  9.99063306e-01  9.84917900e-01  3.03063101e-01\n",
      "  8.99508820e-01  2.99012177e-01  2.88651953e-01  2.53361280e-01\n",
      "             nan             nan             nan             nan\n",
      "             nan             nan             nan             nan\n",
      "             nan             nan             nan             nan\n",
      "             nan             nan             nan]\n"
     ]
    }
   ],
   "source": [
    "\n",
    "# Import Subject Files\n",
    "Subject = \"S14\"\n",
    "Sub_num = 14\n",
    "Gen_Path = \"/Volumes/Expansion/4WT/COLLAB-CODE/Alliyah/Sub-Mat-Converted/\"+Subject+\"/\"\n",
    "record_direc = \"s14_ccf_SANN007\"\n",
    "subjects_dir = '/Volumes/Expansion/4WT/4WT-analysis/DATA'\n",
    "\n",
    "\n",
    "if 'brain' in locals():\n",
    "    brain.close() \n",
    "plt.close('all')\n",
    "\n",
    "\n",
    "# Create lists for electrode positions and R-squared values\n",
    "elec_pos = []\n",
    "r_squared_values = []\n",
    "\n",
    "for idx, row in subject_data.iterrows():\n",
    "    coords = list([float(coord) for coord in row['groupAvgCoords']])\n",
    "    elec_pos.append(coords)\n",
    "    elec_num = row['elecNum']+1\n",
    "    if elec_num in list(s14_glm['Electrode']):\n",
    "        r_squared = s14_glm[s14_glm['Electrode'] == elec_num]['R-squared'].values[0]\n",
    "        r_squared_values.append(r_squared)\n",
    "    else:\n",
    "        r_squared_values.append(np.nan)\n",
    "coordinates = np.array(elec_pos)\n",
    "r_squared_values = np.array(r_squared_values, dtype=float)  # Ensure float type\n",
    "print(r_squared_values)\n"
   ]
  },
  {
   "cell_type": "code",
   "execution_count": 17,
   "id": "388217e1-3aaf-4f2f-a6e0-dfc0492250d5",
   "metadata": {},
   "outputs": [
    {
     "name": "stdout",
     "output_type": "stream",
     "text": [
      "Number of coordinates: 99\n",
      "Number of R-squared values: 99\n",
      "R-squared values: [            nan             nan  1.26774101e-01             nan\n",
      "             nan  6.28641080e-01  6.88040669e-01  1.31851581e-01\n",
      " -2.22044605e-16  0.00000000e+00 -1.12397972e-01             nan\n",
      " -1.40272996e-01  3.80853304e-01             nan             nan\n",
      "  7.92523661e-01             nan             nan  0.00000000e+00\n",
      "             nan             nan             nan -7.37494045e-01\n",
      "  3.91773841e-01  8.25083816e-01             nan             nan\n",
      "             nan -9.03698503e-02 -2.55671452e-03  1.11022302e-16\n",
      " -3.57024678e-02 -7.14657721e-02             nan -8.20568018e-02\n",
      "  8.83548846e-01  2.17247225e-01 -5.99359626e-02  6.80657793e-01\n",
      "             nan             nan  5.18332868e-01             nan\n",
      "             nan -2.07302801e-01 -4.19881721e-01 -7.47682767e-01\n",
      "  1.80587199e-01  1.98118062e-03  1.09568922e-01  7.61919868e-02\n",
      "             nan             nan             nan             nan\n",
      "             nan -9.60795344e-01             nan             nan\n",
      "             nan             nan             nan             nan\n",
      "  9.49153352e-01             nan  3.60093576e-01             nan\n",
      " -5.60032088e-01  2.22448458e-02 -2.84318224e-01 -6.50057623e-01\n",
      "  4.22413412e-01  7.82364132e-02             nan  0.00000000e+00\n",
      "  9.96759984e-01  9.99063306e-01  9.84917900e-01  3.03063101e-01\n",
      "  8.99508820e-01  2.99012177e-01  2.88651953e-01  2.53361280e-01\n",
      "             nan             nan             nan             nan\n",
      "             nan             nan             nan             nan\n",
      "             nan             nan             nan             nan\n",
      "             nan             nan             nan]\n",
      "0 files missing from root.txt in /Users/klab/mne_data/MNE-sample-data/subjects\n",
      "0 files missing from bem.txt in /Users/klab/mne_data/MNE-sample-data/subjects/fsaverage\n",
      "Using notebook 3d backend.\n",
      "\n"
     ]
    },
    {
     "data": {
      "application/vnd.jupyter.widget-view+json": {
       "model_id": "3f1ab8cd671540f29ccc2f128746d0b9",
       "version_major": 2,
       "version_minor": 0
      },
      "text/plain": [
       "HBox(children=(Text(value='', layout=Layout(margin='2px 0px 2px 0px', min_width='0px'), placeholder='Type a fi…"
      ]
     },
     "metadata": {},
     "output_type": "display_data"
    },
    {
     "name": "stderr",
     "output_type": "stream",
     "text": [
      "/Library/Frameworks/Python.framework/Versions/3.12/lib/python3.12/site-packages/wslink/backends/aiohttp/__init__.py:95: NotAppKeyWarning: It is recommended to use web.AppKey instances for keys.\n",
      "https://docs.aiohttp.org/en/stable/web_advanced.html#application-s-config\n",
      "  self.app[\"state\"] = {}\n"
     ]
    },
    {
     "data": {
      "application/vnd.jupyter.widget-view+json": {
       "model_id": "a0c1f419409648229ca67813ef4b689d",
       "version_major": 2,
       "version_minor": 0
      },
      "text/plain": [
       "HBox(children=(Widget(value='<iframe src=\"http://localhost:51292/index.html?ui=P_0x13f6206b0_0&reconnect=auto\"…"
      ]
     },
     "metadata": {},
     "output_type": "display_data"
    },
    {
     "data": {
      "application/vnd.jupyter.widget-view+json": {
       "model_id": "25f89f1fbc0945e1a00e5ad34b6a532b",
       "version_major": 2,
       "version_minor": 0
      },
      "text/plain": [
       "VBox(children=(HBox(children=(Button(icon='chevron-up', layout=Layout(flex='auto 1 auto', width='auto'), style…"
      ]
     },
     "metadata": {},
     "output_type": "display_data"
    },
    {
     "name": "stdout",
     "output_type": "stream",
     "text": [
      "Reading labels from parcellation...\n",
      "   read 35 labels from /Users/klab/mne_data/MNE-sample-data/subjects/fsaverage/label/lh.aparc.annot\n"
     ]
    },
    {
     "data": {
      "application/vnd.jupyter.widget-view+json": {
       "model_id": "3f1ab8cd671540f29ccc2f128746d0b9",
       "version_major": 2,
       "version_minor": 0
      },
      "text/plain": [
       "HBox(children=(Text(value='', layout=Layout(margin='2px 0px 2px 0px', min_width='0px'), placeholder='Type a fi…"
      ]
     },
     "metadata": {},
     "output_type": "display_data"
    },
    {
     "name": "stdout",
     "output_type": "stream",
     "text": [
      "A view with name (P_0x13f6206b0_0) is already registered\n",
      " => returning previous one\n"
     ]
    },
    {
     "data": {
      "application/vnd.jupyter.widget-view+json": {
       "model_id": "85c693ccdc7342ba98a71d1bbce19fc7",
       "version_major": 2,
       "version_minor": 0
      },
      "text/plain": [
       "HBox(children=(Widget(value='<iframe src=\"http://localhost:51292/index.html?ui=P_0x13f6206b0_0&reconnect=auto\"…"
      ]
     },
     "metadata": {},
     "output_type": "display_data"
    },
    {
     "data": {
      "application/vnd.jupyter.widget-view+json": {
       "model_id": "25f89f1fbc0945e1a00e5ad34b6a532b",
       "version_major": 2,
       "version_minor": 0
      },
      "text/plain": [
       "VBox(children=(HBox(children=(Button(icon='chevron-up', layout=Layout(flex='auto 1 auto', width='auto'), style…"
      ]
     },
     "metadata": {},
     "output_type": "display_data"
    }
   ],
   "source": [
    "\n",
    "\n",
    "# Assuming coordinates and r_squared_values are defined earlier in your script\n",
    "print(f\"Number of coordinates: {len(coordinates)}\")\n",
    "print(f\"Number of R-squared values: {len(r_squared_values)}\")\n",
    "print(f\"R-squared values: {r_squared_values}\")\n",
    "\n",
    "if len(r_squared_values) == 0:\n",
    "    raise ValueError(\"No R-squared values found. Check the electrode naming convention and data matching.\")\n",
    "\n",
    "# Create a mask for valid R-squared values\n",
    "valid_mask = ~np.isnan(r_squared_values)\n",
    "valid_r_squared = r_squared_values[valid_mask]\n",
    "\n",
    "if len(valid_r_squared) == 0:\n",
    "    raise ValueError(\"No valid R-squared values found after removing NaNs.\")\n",
    "\n",
    "# Normalize R-squared values for color mapping (only for valid values)\n",
    "min_r_squared = np.min(valid_r_squared)\n",
    "max_r_squared = np.max(valid_r_squared)\n",
    "\n",
    "if min_r_squared == max_r_squared:\n",
    "    print(\"Warning: All valid R-squared values are the same. Using a uniform color.\")\n",
    "    normalized_r_squared = np.zeros_like(r_squared_values)\n",
    "else:\n",
    "    normalized_r_squared = (r_squared_values - min_r_squared) / (max_r_squared - min_r_squared)\n",
    "\n",
    "# Setup brain visualization\n",
    "subjects_dir = mne.datasets.sample.data_path() / \"subjects\"\n",
    "fetch_fsaverage(subjects_dir=subjects_dir, verbose=True)\n",
    "\n",
    "# Create a custom colormap (blue to red)\n",
    "colors = ['darkblue', 'blue', 'lightblue', 'white', 'mistyrose', 'red', 'darkred']\n",
    "n_bins = 100\n",
    "cmap = LinearSegmentedColormap.from_list('custom', colors, N=n_bins)\n",
    "\n",
    "# Create the brain visualization with parcellation (left hemisphere only)\n",
    "brain = mne.viz.Brain(\"fsaverage\", hemi='lh', surf='pial', subjects_dir=subjects_dir, \n",
    "                      background='white', cortex='low_contrast', alpha=0.3)\n",
    "\n",
    "# Add parcellation with increased transparency\n",
    "\n",
    "atlas = 'aparc'\n",
    "labels = mne.read_labels_from_annot('fsaverage', atlas, hemi='lh', subjects_dir=subjects_dir)\n",
    "for label in labels:\n",
    "    if label.name != 'unknown':\n",
    "        color = np.random.rand(3)  # Random color for each region\n",
    "        brain.add_label(label, color=color, alpha=0.4)\n",
    "\n",
    "# Set the view\n",
    "view_kwargs = dict(azimuth=135, elevation=90, focalpoint=(0, 0, -15))\n",
    "brain.show_view(distance=400, **view_kwargs)\n",
    "\n",
    "# Add foci with color based on R-squared values\n",
    "for coord, r_squared in zip(coordinates, normalized_r_squared):\n",
    "    if np.isnan(r_squared):\n",
    "        color = 'gray'  # Use gray for electrodes without R-squared values\n",
    "    else:\n",
    "        color = cmap(r_squared)  # Use custom colormap for valid values\n",
    "    brain.add_foci(coord, coords_as_verts=False, hemi='lh', color=color, scale_factor=0.25)\n",
    "\n",
    "# Display the brain model\n",
    "brain.show()\n",
    "\n",
    "brain.save_image('brain_visualization.png')\n",
    "\n",
    "# Add color bar in a separate figure\n",
    "if len(valid_r_squared) > 0:\n",
    "    fig, ax = plt.subplots(figsize=(8, 1))\n",
    "    fig.subplots_adjust(bottom=0.5)\n",
    "    sm = plt.cm.ScalarMappable(cmap=cmap, norm=plt.Normalize(vmin=min_r_squared, vmax=max_r_squared))\n",
    "    sm.set_array([])\n",
    "    cbar = fig.colorbar(sm, cax=ax, orientation='horizontal', label='R-squared')\n",
    "    plt.title('R-squared Values')\n",
    "    plt.savefig('colorbar.png', dpi=300, bbox_inches='tight')\n",
    "    plt.close()\n",
    "\n",
    "# Create a legend for brain regions\n",
    "legend_labels = [label.name for label in labels if label.name != 'unknown']\n",
    "legend_colors = [label.color for label in labels if label.name != 'unknown']\n",
    "fig, ax = plt.subplots(figsize=(10, len(legend_labels) * 0.25))\n",
    "ax.set_title('Brain Regions')\n",
    "for i, (label, color) in enumerate(zip(legend_labels, legend_colors)):\n",
    "    ax.bar(0, 1, color=color, label=label)\n",
    "ax.set_yticks([])\n",
    "ax.set_xticks([])\n",
    "ax.legend(loc='center left', bbox_to_anchor=(1, 0.5))\n",
    "plt.tight_layout()\n",
    "plt.savefig('brain_regions_legend.png', dpi=300, bbox_inches='tight')\n",
    "plt.close()"
   ]
  },
  {
   "cell_type": "code",
   "execution_count": 18,
   "id": "2e4fee8e-d505-497d-943d-b5b5ad26ed00",
   "metadata": {},
   "outputs": [],
   "source": [
    "#Now do some modality electrode analysis\n",
    "#2,14,21,53,90,110"
   ]
  },
  {
   "cell_type": "code",
   "execution_count": 19,
   "id": "6663a0f3-48f4-4e20-bc0e-04fedf27ae3c",
   "metadata": {},
   "outputs": [],
   "source": [
    "sig_a_v_list = [2,14,21,53,90,110] "
   ]
  },
  {
   "cell_type": "code",
   "execution_count": 20,
   "id": "e7f82ca1-4106-46b8-8451-ed7452281fa2",
   "metadata": {},
   "outputs": [],
   "source": [
    "sig_a = [2,53,110]"
   ]
  },
  {
   "cell_type": "code",
   "execution_count": 21,
   "id": "7e25d02b-c5ac-4861-a7d9-9fbb02828ce9",
   "metadata": {},
   "outputs": [],
   "source": [
    "sig_v = [14,21,90]"
   ]
  },
  {
   "cell_type": "code",
   "execution_count": 22,
   "id": "07d858b3-259a-4127-9653-8ed7b6351f63",
   "metadata": {},
   "outputs": [],
   "source": [
    "elecs = list(subject_data['elecNum'])"
   ]
  },
  {
   "cell_type": "code",
   "execution_count": 23,
   "id": "6f8e639a-2edc-45d6-acfe-7a5de545cde0",
   "metadata": {},
   "outputs": [
    {
     "data": {
      "text/plain": [
       "[1,\n",
       " 2,\n",
       " 3,\n",
       " 4,\n",
       " 6,\n",
       " 7,\n",
       " 8,\n",
       " 9,\n",
       " 10,\n",
       " 13,\n",
       " 14,\n",
       " 15,\n",
       " 16,\n",
       " 18,\n",
       " 19,\n",
       " 20,\n",
       " 21,\n",
       " 22,\n",
       " 23,\n",
       " 26,\n",
       " 27,\n",
       " 30,\n",
       " 31,\n",
       " 32,\n",
       " 33,\n",
       " 34,\n",
       " 35,\n",
       " 36,\n",
       " 39,\n",
       " 40,\n",
       " 41,\n",
       " 42,\n",
       " 43,\n",
       " 44,\n",
       " 45,\n",
       " 46,\n",
       " 58,\n",
       " 59,\n",
       " 61,\n",
       " 62,\n",
       " 63,\n",
       " 64,\n",
       " 66,\n",
       " 67,\n",
       " 68,\n",
       " 69,\n",
       " 73,\n",
       " 74,\n",
       " 75,\n",
       " 76,\n",
       " 77,\n",
       " 78,\n",
       " 81,\n",
       " 82,\n",
       " 83,\n",
       " 84,\n",
       " 85,\n",
       " 86,\n",
       " 87,\n",
       " 88,\n",
       " 89,\n",
       " 90,\n",
       " 91,\n",
       " 92,\n",
       " 93,\n",
       " 94,\n",
       " 106,\n",
       " 107,\n",
       " 108,\n",
       " 111,\n",
       " 112,\n",
       " 113,\n",
       " 114,\n",
       " 116,\n",
       " 118,\n",
       " 119,\n",
       " 132,\n",
       " 133,\n",
       " 135,\n",
       " 136,\n",
       " 137,\n",
       " 138,\n",
       " 139,\n",
       " 140,\n",
       " 161,\n",
       " 162,\n",
       " 163,\n",
       " 186,\n",
       " 187,\n",
       " 188,\n",
       " 189,\n",
       " 190,\n",
       " 191,\n",
       " 202,\n",
       " 203,\n",
       " 204,\n",
       " 205,\n",
       " 206,\n",
       " 207]"
      ]
     },
     "execution_count": 23,
     "metadata": {},
     "output_type": "execute_result"
    }
   ],
   "source": [
    "elecs"
   ]
  },
  {
   "cell_type": "code",
   "execution_count": 24,
   "id": "4881b6d0-daf8-41d2-b258-8ee19b1165ce",
   "metadata": {},
   "outputs": [],
   "source": [
    "subject_data_audio= elec_frame[(elec_frame['elecNum'].isin(sig_a)) & (elec_frame['subjectNum'] == 14)]"
   ]
  },
  {
   "cell_type": "code",
   "execution_count": 25,
   "id": "dd8ca126-1649-4fca-be31-021c14b62afe",
   "metadata": {},
   "outputs": [
    {
     "data": {
      "text/html": [
       "<div>\n",
       "<style scoped>\n",
       "    .dataframe tbody tr th:only-of-type {\n",
       "        vertical-align: middle;\n",
       "    }\n",
       "\n",
       "    .dataframe tbody tr th {\n",
       "        vertical-align: top;\n",
       "    }\n",
       "\n",
       "    .dataframe thead th {\n",
       "        text-align: right;\n",
       "    }\n",
       "</style>\n",
       "<table border=\"1\" class=\"dataframe\">\n",
       "  <thead>\n",
       "    <tr style=\"text-align: right;\">\n",
       "      <th></th>\n",
       "      <th>subjectNum</th>\n",
       "      <th>elecNum</th>\n",
       "      <th>isRejectManual</th>\n",
       "      <th>parcLabel</th>\n",
       "      <th>ctxParc</th>\n",
       "      <th>wmParc</th>\n",
       "      <th>isRejectFSL_2wm</th>\n",
       "      <th>isRejectFSL</th>\n",
       "      <th>isWM</th>\n",
       "      <th>unknown_wmParc</th>\n",
       "      <th>groupLabels</th>\n",
       "      <th>isLeft</th>\n",
       "      <th>groupAvgCoords</th>\n",
       "    </tr>\n",
       "  </thead>\n",
       "  <tbody>\n",
       "    <tr>\n",
       "      <th>1223</th>\n",
       "      <td>14</td>\n",
       "      <td>2</td>\n",
       "      <td>0</td>\n",
       "      <td>Amygdala</td>\n",
       "      <td>Left-Amygdala</td>\n",
       "      <td>unknown</td>\n",
       "      <td>0</td>\n",
       "      <td>0</td>\n",
       "      <td>0</td>\n",
       "      <td>1</td>\n",
       "      <td>A2 s14 e2</td>\n",
       "      <td>1</td>\n",
       "      <td>[-25.570836211066336, -7.854196984958605, -21....</td>\n",
       "    </tr>\n",
       "  </tbody>\n",
       "</table>\n",
       "</div>"
      ],
      "text/plain": [
       "      subjectNum  elecNum  isRejectManual parcLabel        ctxParc   wmParc  \\\n",
       "1223          14        2               0  Amygdala  Left-Amygdala  unknown   \n",
       "\n",
       "      isRejectFSL_2wm  isRejectFSL  isWM  unknown_wmParc groupLabels  isLeft  \\\n",
       "1223                0            0     0               1   A2 s14 e2       1   \n",
       "\n",
       "                                         groupAvgCoords  \n",
       "1223  [-25.570836211066336, -7.854196984958605, -21....  "
      ]
     },
     "execution_count": 25,
     "metadata": {},
     "output_type": "execute_result"
    }
   ],
   "source": [
    "subject_data_audio"
   ]
  },
  {
   "cell_type": "code",
   "execution_count": 26,
   "id": "7a13dd27-e530-4ab5-bed1-75bf7411a34d",
   "metadata": {},
   "outputs": [],
   "source": [
    "subject_data_vis= elec_frame[(elec_frame['elecNum'].isin(sig_v)) & (elec_frame['subjectNum'] ==14)]"
   ]
  },
  {
   "cell_type": "code",
   "execution_count": 27,
   "id": "bd0107ed-8b4b-4aa3-a7ed-4afd65b917d7",
   "metadata": {},
   "outputs": [
    {
     "data": {
      "text/html": [
       "<div>\n",
       "<style scoped>\n",
       "    .dataframe tbody tr th:only-of-type {\n",
       "        vertical-align: middle;\n",
       "    }\n",
       "\n",
       "    .dataframe tbody tr th {\n",
       "        vertical-align: top;\n",
       "    }\n",
       "\n",
       "    .dataframe thead th {\n",
       "        text-align: right;\n",
       "    }\n",
       "</style>\n",
       "<table border=\"1\" class=\"dataframe\">\n",
       "  <thead>\n",
       "    <tr style=\"text-align: right;\">\n",
       "      <th></th>\n",
       "      <th>subjectNum</th>\n",
       "      <th>elecNum</th>\n",
       "      <th>isRejectManual</th>\n",
       "      <th>parcLabel</th>\n",
       "      <th>ctxParc</th>\n",
       "      <th>wmParc</th>\n",
       "      <th>isRejectFSL_2wm</th>\n",
       "      <th>isRejectFSL</th>\n",
       "      <th>isWM</th>\n",
       "      <th>unknown_wmParc</th>\n",
       "      <th>groupLabels</th>\n",
       "      <th>isLeft</th>\n",
       "      <th>groupAvgCoords</th>\n",
       "    </tr>\n",
       "  </thead>\n",
       "  <tbody>\n",
       "    <tr>\n",
       "      <th>1233</th>\n",
       "      <td>14</td>\n",
       "      <td>14</td>\n",
       "      <td>0</td>\n",
       "      <td>Hippocampus</td>\n",
       "      <td>Left-Hippocampus</td>\n",
       "      <td>unknown</td>\n",
       "      <td>0</td>\n",
       "      <td>0</td>\n",
       "      <td>0</td>\n",
       "      <td>1</td>\n",
       "      <td>B2 s14 e14</td>\n",
       "      <td>1</td>\n",
       "      <td>[-29.727203175657536, -28.33407505958796, -13....</td>\n",
       "    </tr>\n",
       "    <tr>\n",
       "      <th>1239</th>\n",
       "      <td>14</td>\n",
       "      <td>21</td>\n",
       "      <td>0</td>\n",
       "      <td>S_temporal_inf</td>\n",
       "      <td>Left-Cerebral-White-Matter</td>\n",
       "      <td>S_temporal_inf</td>\n",
       "      <td>0</td>\n",
       "      <td>0</td>\n",
       "      <td>1</td>\n",
       "      <td>0</td>\n",
       "      <td>B9 s14 e21</td>\n",
       "      <td>1</td>\n",
       "      <td>[-62.48198616860353, -29.32200597819488, -13.5...</td>\n",
       "    </tr>\n",
       "    <tr>\n",
       "      <th>1290</th>\n",
       "      <td>14</td>\n",
       "      <td>90</td>\n",
       "      <td>0</td>\n",
       "      <td>S_precentral-inf-part</td>\n",
       "      <td>Left-Cerebral-White-Matter</td>\n",
       "      <td>S_precentral-inf-part</td>\n",
       "      <td>0</td>\n",
       "      <td>0</td>\n",
       "      <td>1</td>\n",
       "      <td>0</td>\n",
       "      <td>K10 s14 e90</td>\n",
       "      <td>1</td>\n",
       "      <td>[-45.44337344843572, -1.3209763427650074, 35.7...</td>\n",
       "    </tr>\n",
       "  </tbody>\n",
       "</table>\n",
       "</div>"
      ],
      "text/plain": [
       "      subjectNum  elecNum  isRejectManual              parcLabel  \\\n",
       "1233          14       14               0            Hippocampus   \n",
       "1239          14       21               0         S_temporal_inf   \n",
       "1290          14       90               0  S_precentral-inf-part   \n",
       "\n",
       "                         ctxParc                 wmParc  isRejectFSL_2wm  \\\n",
       "1233            Left-Hippocampus                unknown                0   \n",
       "1239  Left-Cerebral-White-Matter         S_temporal_inf                0   \n",
       "1290  Left-Cerebral-White-Matter  S_precentral-inf-part                0   \n",
       "\n",
       "      isRejectFSL  isWM  unknown_wmParc  groupLabels  isLeft  \\\n",
       "1233            0     0               1   B2 s14 e14       1   \n",
       "1239            0     1               0   B9 s14 e21       1   \n",
       "1290            0     1               0  K10 s14 e90       1   \n",
       "\n",
       "                                         groupAvgCoords  \n",
       "1233  [-29.727203175657536, -28.33407505958796, -13....  \n",
       "1239  [-62.48198616860353, -29.32200597819488, -13.5...  \n",
       "1290  [-45.44337344843572, -1.3209763427650074, 35.7...  "
      ]
     },
     "execution_count": 27,
     "metadata": {},
     "output_type": "execute_result"
    }
   ],
   "source": [
    "subject_data_vis"
   ]
  },
  {
   "cell_type": "code",
   "execution_count": 28,
   "id": "4b72de12-95e4-4d9e-be90-9e01820b956f",
   "metadata": {},
   "outputs": [
    {
     "name": "stdout",
     "output_type": "stream",
     "text": [
      "Reading labels from parcellation...\n",
      "   read 35 labels from /Users/klab/mne_data/MNE-sample-data/subjects/fsaverage/label/lh.aparc.annot\n"
     ]
    }
   ],
   "source": [
    "atlas = 'aparc'\n",
    "label_list = [] \n",
    "labels = mne.read_labels_from_annot('fsaverage', atlas, hemi='lh', subjects_dir=subjects_dir)\n",
    "for label in labels:\n",
    "    if label.name != 'unknown':\n",
    "        label_list.append(label.name)\n",
    "        "
   ]
  },
  {
   "cell_type": "code",
   "execution_count": 29,
   "id": "7c8d0edf-5607-4273-9dc7-a676b08df337",
   "metadata": {},
   "outputs": [
    {
     "data": {
      "text/plain": [
       "['bankssts-lh',\n",
       " 'caudalanteriorcingulate-lh',\n",
       " 'caudalmiddlefrontal-lh',\n",
       " 'cuneus-lh',\n",
       " 'entorhinal-lh',\n",
       " 'frontalpole-lh',\n",
       " 'fusiform-lh',\n",
       " 'inferiorparietal-lh',\n",
       " 'inferiortemporal-lh',\n",
       " 'insula-lh',\n",
       " 'isthmuscingulate-lh',\n",
       " 'lateraloccipital-lh',\n",
       " 'lateralorbitofrontal-lh',\n",
       " 'lingual-lh',\n",
       " 'medialorbitofrontal-lh',\n",
       " 'middletemporal-lh',\n",
       " 'paracentral-lh',\n",
       " 'parahippocampal-lh',\n",
       " 'parsopercularis-lh',\n",
       " 'parsorbitalis-lh',\n",
       " 'parstriangularis-lh',\n",
       " 'pericalcarine-lh',\n",
       " 'postcentral-lh',\n",
       " 'posteriorcingulate-lh',\n",
       " 'precentral-lh',\n",
       " 'precuneus-lh',\n",
       " 'rostralanteriorcingulate-lh',\n",
       " 'rostralmiddlefrontal-lh',\n",
       " 'superiorfrontal-lh',\n",
       " 'superiorparietal-lh',\n",
       " 'superiortemporal-lh',\n",
       " 'supramarginal-lh',\n",
       " 'temporalpole-lh',\n",
       " 'transversetemporal-lh',\n",
       " 'unknown-lh']"
      ]
     },
     "execution_count": 29,
     "metadata": {},
     "output_type": "execute_result"
    }
   ],
   "source": [
    "label_list"
   ]
  },
  {
   "cell_type": "code",
   "execution_count": 30,
   "id": "a6d652b8-00f1-4d41-bf00-60e5cc38dd3f",
   "metadata": {},
   "outputs": [],
   "source": [
    "#visual\n",
    "#'inferiortemporal-lh',#'precentral-lh',\n",
    "#Hippocampus #amydala\n",
    "#auditory\n",
    "#amygdala"
   ]
  },
  {
   "cell_type": "code",
   "execution_count": 31,
   "id": "09bff6ef-55f5-4700-b7bb-d543ec804952",
   "metadata": {},
   "outputs": [
    {
     "name": "stdout",
     "output_type": "stream",
     "text": [
      "0 files missing from root.txt in /Users/klab/mne_data/MNE-sample-data/subjects\n",
      "0 files missing from bem.txt in /Users/klab/mne_data/MNE-sample-data/subjects/fsaverage\n"
     ]
    },
    {
     "data": {
      "application/vnd.jupyter.widget-view+json": {
       "model_id": "d7a41d3dc1374070a7765778dedd21ca",
       "version_major": 2,
       "version_minor": 0
      },
      "text/plain": [
       "HBox(children=(Text(value='', layout=Layout(margin='2px 0px 2px 0px', min_width='0px'), placeholder='Type a fi…"
      ]
     },
     "metadata": {},
     "output_type": "display_data"
    },
    {
     "data": {
      "application/vnd.jupyter.widget-view+json": {
       "model_id": "7ed2db22347f4f3e9cf64f0411d0101c",
       "version_major": 2,
       "version_minor": 0
      },
      "text/plain": [
       "HBox(children=(Widget(value='<iframe src=\"http://localhost:51292/index.html?ui=P_0x14e0dd190_1&reconnect=auto\"…"
      ]
     },
     "metadata": {},
     "output_type": "display_data"
    },
    {
     "data": {
      "application/vnd.jupyter.widget-view+json": {
       "model_id": "ecf1e6c8971b4feb8356909dc4a58ee8",
       "version_major": 2,
       "version_minor": 0
      },
      "text/plain": [
       "VBox(children=(HBox(children=(Button(icon='chevron-up', layout=Layout(flex='auto 1 auto', width='auto'), style…"
      ]
     },
     "metadata": {},
     "output_type": "display_data"
    },
    {
     "name": "stdout",
     "output_type": "stream",
     "text": [
      "Reading labels from parcellation...\n",
      "   read 75 labels from /Users/klab/mne_data/MNE-sample-data/subjects/sample/label/lh.aparc.a2009s.annot\n",
      "   read 75 labels from /Users/klab/mne_data/MNE-sample-data/subjects/sample/label/rh.aparc.a2009s.annot\n",
      "Available labels: ['G_Ins_lg_and_S_cent_ins-lh', 'G_Ins_lg_and_S_cent_ins-rh', 'G_and_S_cingul-Ant-lh', 'G_and_S_cingul-Ant-rh', 'G_and_S_cingul-Mid-Ant-lh', 'G_and_S_cingul-Mid-Ant-rh', 'G_and_S_cingul-Mid-Post-lh', 'G_and_S_cingul-Mid-Post-rh', 'G_and_S_frontomargin-lh', 'G_and_S_frontomargin-rh', 'G_and_S_occipital_inf-lh', 'G_and_S_occipital_inf-rh', 'G_and_S_paracentral-lh', 'G_and_S_paracentral-rh', 'G_and_S_subcentral-lh', 'G_and_S_subcentral-rh', 'G_and_S_transv_frontopol-lh', 'G_and_S_transv_frontopol-rh', 'G_cingul-Post-dorsal-lh', 'G_cingul-Post-dorsal-rh', 'G_cingul-Post-ventral-lh', 'G_cingul-Post-ventral-rh', 'G_cuneus-lh', 'G_cuneus-rh', 'G_front_inf-Opercular-lh', 'G_front_inf-Opercular-rh', 'G_front_inf-Orbital-lh', 'G_front_inf-Orbital-rh', 'G_front_inf-Triangul-lh', 'G_front_inf-Triangul-rh', 'G_front_middle-lh', 'G_front_middle-rh', 'G_front_sup-lh', 'G_front_sup-rh', 'G_insular_short-lh', 'G_insular_short-rh', 'G_oc-temp_lat-fusifor-lh', 'G_oc-temp_lat-fusifor-rh', 'G_oc-temp_med-Lingual-lh', 'G_oc-temp_med-Lingual-rh', 'G_oc-temp_med-Parahip-lh', 'G_oc-temp_med-Parahip-rh', 'G_occipital_middle-lh', 'G_occipital_middle-rh', 'G_occipital_sup-lh', 'G_occipital_sup-rh', 'G_orbital-lh', 'G_orbital-rh', 'G_pariet_inf-Angular-lh', 'G_pariet_inf-Angular-rh', 'G_pariet_inf-Supramar-lh', 'G_pariet_inf-Supramar-rh', 'G_parietal_sup-lh', 'G_parietal_sup-rh', 'G_postcentral-lh', 'G_postcentral-rh', 'G_precentral-lh', 'G_precentral-rh', 'G_precuneus-lh', 'G_precuneus-rh', 'G_rectus-lh', 'G_rectus-rh', 'G_subcallosal-lh', 'G_subcallosal-rh', 'G_temp_sup-G_T_transv-lh', 'G_temp_sup-G_T_transv-rh', 'G_temp_sup-Lateral-lh', 'G_temp_sup-Lateral-rh', 'G_temp_sup-Plan_polar-lh', 'G_temp_sup-Plan_polar-rh', 'G_temp_sup-Plan_tempo-lh', 'G_temp_sup-Plan_tempo-rh', 'G_temporal_inf-lh', 'G_temporal_inf-rh', 'G_temporal_middle-lh', 'G_temporal_middle-rh', 'Lat_Fis-ant-Horizont-lh', 'Lat_Fis-ant-Horizont-rh', 'Lat_Fis-ant-Vertical-lh', 'Lat_Fis-ant-Vertical-rh', 'Lat_Fis-post-lh', 'Lat_Fis-post-rh', 'Pole_occipital-lh', 'Pole_occipital-rh', 'Pole_temporal-lh', 'Pole_temporal-rh', 'S_calcarine-lh', 'S_calcarine-rh', 'S_central-lh', 'S_central-rh', 'S_cingul-Marginalis-lh', 'S_cingul-Marginalis-rh', 'S_circular_insula_ant-lh', 'S_circular_insula_ant-rh', 'S_circular_insula_inf-lh', 'S_circular_insula_inf-rh', 'S_circular_insula_sup-lh', 'S_circular_insula_sup-rh', 'S_collat_transv_ant-lh', 'S_collat_transv_ant-rh', 'S_collat_transv_post-lh', 'S_collat_transv_post-rh', 'S_front_inf-lh', 'S_front_inf-rh', 'S_front_middle-lh', 'S_front_middle-rh', 'S_front_sup-lh', 'S_front_sup-rh', 'S_interm_prim-Jensen-lh', 'S_interm_prim-Jensen-rh', 'S_intrapariet_and_P_trans-lh', 'S_intrapariet_and_P_trans-rh', 'S_oc-temp_lat-lh', 'S_oc-temp_lat-rh', 'S_oc-temp_med_and_Lingual-lh', 'S_oc-temp_med_and_Lingual-rh', 'S_oc_middle_and_Lunatus-lh', 'S_oc_middle_and_Lunatus-rh', 'S_oc_sup_and_transversal-lh', 'S_oc_sup_and_transversal-rh', 'S_occipital_ant-lh', 'S_occipital_ant-rh', 'S_orbital-H_Shaped-lh', 'S_orbital-H_Shaped-rh', 'S_orbital_lateral-lh', 'S_orbital_lateral-rh', 'S_orbital_med-olfact-lh', 'S_orbital_med-olfact-rh', 'S_parieto_occipital-lh', 'S_parieto_occipital-rh', 'S_pericallosal-lh', 'S_pericallosal-rh', 'S_postcentral-lh', 'S_postcentral-rh', 'S_precentral-inf-part-lh', 'S_precentral-inf-part-rh', 'S_precentral-sup-part-lh', 'S_precentral-sup-part-rh', 'S_suborbital-lh', 'S_suborbital-rh', 'S_subparietal-lh', 'S_subparietal-rh', 'S_temporal_inf-lh', 'S_temporal_inf-rh', 'S_temporal_sup-lh', 'S_temporal_sup-rh', 'S_temporal_transverse-lh', 'S_temporal_transverse-rh', 'Unknown-lh', 'Unknown-rh']\n",
      "Label inferiortemporal-lh not found in available labels\n",
      "Label precentral-lh not found in available labels\n"
     ]
    },
    {
     "data": {
      "image/png": "[encoded data removed]",
      "text/plain": [
       "<Figure size 640x480 with 1 Axes>"
      ]
     },
     "metadata": {},
     "output_type": "display_data"
    }
   ],
   "source": [
    "\n",
    "from mne.datasets import sample\n",
    "from mne.viz import plot_alignment\n",
    "import matplotlib.pyplot as plt\n",
    "import matplotlib.patches as mpatches\n",
    "\n",
    "# Define the significant regions for visual and auditory modalities\n",
    "visual_areas = ['inferiortemporal-lh', 'precentral-lh']\n",
    "auditory_areas = []\n",
    "\n",
    "# Load the sample subject\n",
    "subjects_dir = sample.data_path() / \"subjects\"\n",
    "subject = 'sample'\n",
    "trans = 'fsaverage'  # Assuming 'fsaverage' transformation\n",
    "\n",
    "# Fetch fsaverage (you might not need this if you already have the data)\n",
    "mne.datasets.fetch_fsaverage(subjects_dir=subjects_dir, verbose=True)\n",
    "\n",
    "# Create a brain model plot\n",
    "fig = plot_alignment(subject=subject, subjects_dir=subjects_dir, surfaces=['pial'], coord_frame='mri', trans=trans, show_axes=True)\n",
    "\n",
    "# Print available labels for debugging\n",
    "labels = mne.read_labels_from_annot(subject, parc='aparc.a2009s', subjects_dir=subjects_dir)\n",
    "print(\"Available labels:\", [label.name for label in labels])\n",
    "\n",
    "# Add the visual areas in orange\n",
    "for area in visual_areas:\n",
    "    label_list = [label for label in labels if label.name == area]\n",
    "    if label_list:\n",
    "        coords = label_list[0].pos  # For cortical structures\n",
    "        mne.viz.plot_markers(fig, coords, color='orange')\n",
    "    else:\n",
    "        print(f\"Label {area} not found in available labels\")\n",
    "\n",
    "# Add a key to the plot\n",
    "orange_patch = mpatches.Patch(color='orange', label='Visual Areas')\n",
    "blue_patch = mpatches.Patch(color='blue', label='Auditory Areas')\n",
    "plt.legend(handles=[orange_patch, blue_patch])\n",
    "\n",
    "# Show the plot\n",
    "plt.show()\n",
    "\n"
   ]
  },
  {
   "cell_type": "code",
   "execution_count": 32,
   "id": "cd7779b9-87b1-42f8-b481-86d0266729a2",
   "metadata": {},
   "outputs": [
    {
     "name": "stderr",
     "output_type": "stream",
     "text": [
      "/Library/Frameworks/Python.framework/Versions/3.12/lib/python3.12/pty.py:95: DeprecationWarning: This process (pid=2794) is multi-threaded, use of forkpty() may lead to deadlocks in the child.\n",
      "  pid, fd = os.forkpty()\n"
     ]
    },
    {
     "name": "stdout",
     "output_type": "stream",
     "text": [
      "Requirement already satisfied: nilearn in /usr/local/Caskroom/mambaforge/base/envs/llm/lib/python3.9/site-packages (0.10.4)\n",
      "Requirement already satisfied: joblib>=1.0.0 in /usr/local/Caskroom/mambaforge/base/envs/llm/lib/python3.9/site-packages (from nilearn) (1.4.2)\n",
      "Requirement already satisfied: lxml in /usr/local/Caskroom/mambaforge/base/envs/llm/lib/python3.9/site-packages (from nilearn) (5.2.2)\n",
      "Requirement already satisfied: nibabel>=4.0.0 in /usr/local/Caskroom/mambaforge/base/envs/llm/lib/python3.9/site-packages (from nilearn) (5.2.1)\n",
      "Requirement already satisfied: numpy>=1.19.0 in /usr/local/Caskroom/mambaforge/base/envs/llm/lib/python3.9/site-packages (from nilearn) (2.0.0)\n",
      "Requirement already satisfied: packaging in /usr/local/Caskroom/mambaforge/base/envs/llm/lib/python3.9/site-packages (from nilearn) (24.1)\n",
      "Requirement already satisfied: pandas>=1.1.5 in /usr/local/Caskroom/mambaforge/base/envs/llm/lib/python3.9/site-packages (from nilearn) (2.2.2)\n",
      "Requirement already satisfied: requests>=2.25.0 in /usr/local/Caskroom/mambaforge/base/envs/llm/lib/python3.9/site-packages (from nilearn) (2.32.3)\n",
      "Requirement already satisfied: scikit-learn>=1.0.0 in /usr/local/Caskroom/mambaforge/base/envs/llm/lib/python3.9/site-packages (from nilearn) (1.5.1)\n",
      "Requirement already satisfied: scipy>=1.8.0 in /usr/local/Caskroom/mambaforge/base/envs/llm/lib/python3.9/site-packages (from nilearn) (1.13.1)\n",
      "Requirement already satisfied: python-dateutil>=2.8.2 in /usr/local/Caskroom/mambaforge/base/envs/llm/lib/python3.9/site-packages (from pandas>=1.1.5->nilearn) (2.9.0)\n",
      "Requirement already satisfied: pytz>=2020.1 in /usr/local/Caskroom/mambaforge/base/envs/llm/lib/python3.9/site-packages (from pandas>=1.1.5->nilearn) (2024.1)\n",
      "Requirement already satisfied: tzdata>=2022.7 in /usr/local/Caskroom/mambaforge/base/envs/llm/lib/python3.9/site-packages (from pandas>=1.1.5->nilearn) (2024.1)\n",
      "Requirement already satisfied: charset-normalizer<4,>=2 in /usr/local/Caskroom/mambaforge/base/envs/llm/lib/python3.9/site-packages (from requests>=2.25.0->nilearn) (3.3.2)\n",
      "Requirement already satisfied: idna<4,>=2.5 in /usr/local/Caskroom/mambaforge/base/envs/llm/lib/python3.9/site-packages (from requests>=2.25.0->nilearn) (3.7)\n",
      "Requirement already satisfied: urllib3<3,>=1.21.1 in /usr/local/Caskroom/mambaforge/base/envs/llm/lib/python3.9/site-packages (from requests>=2.25.0->nilearn) (2.2.2)\n",
      "Requirement already satisfied: certifi>=2017.4.17 in /usr/local/Caskroom/mambaforge/base/envs/llm/lib/python3.9/site-packages (from requests>=2.25.0->nilearn) (2024.7.4)\n",
      "Requirement already satisfied: threadpoolctl>=3.1.0 in /usr/local/Caskroom/mambaforge/base/envs/llm/lib/python3.9/site-packages (from scikit-learn>=1.0.0->nilearn) (3.5.0)\n",
      "Requirement already satisfied: six>=1.5 in /usr/local/Caskroom/mambaforge/base/envs/llm/lib/python3.9/site-packages (from python-dateutil>=2.8.2->pandas>=1.1.5->nilearn) (1.16.0)\n"
     ]
    }
   ],
   "source": [
    "!pip3 install nilearn"
   ]
  },
  {
   "cell_type": "code",
   "execution_count": 33,
   "id": "88ed217c-3c03-4d9c-b957-e7d1c3b29c65",
   "metadata": {},
   "outputs": [
    {
     "name": "stdout",
     "output_type": "stream",
     "text": [
      "\n",
      "Looking for: ['nilearn']\n",
      "\n",
      "conda-forge/osx-64                                          Using cache\n",
      "conda-forge/noarch                                          Using cache\n",
      "\n",
      "Pinned packages:\n",
      "  - python 3.9.*\n",
      "\n",
      "\n",
      "Transaction\n",
      "\n",
      "  Prefix: /usr/local/Caskroom/mambaforge/base/envs/llm\n",
      "\n",
      "  All requested packages already installed\n",
      "\n",
      "\u001b[?25l\u001b[2K\u001b[0G\u001b[?25h"
     ]
    }
   ],
   "source": [
    "!mamba install nilearn "
   ]
  },
  {
   "cell_type": "code",
   "execution_count": 34,
   "id": "ff9b406d-0aae-4968-a8b6-62acf969e758",
   "metadata": {},
   "outputs": [
    {
     "ename": "ModuleNotFoundError",
     "evalue": "No module named 'nilearn'",
     "output_type": "error",
     "traceback": [
      "\u001b[0;31m---------------------------------------------------------------------------\u001b[0m",
      "\u001b[0;31mModuleNotFoundError\u001b[0m                       Traceback (most recent call last)",
      "Cell \u001b[0;32mIn[34], line 1\u001b[0m\n\u001b[0;32m----> 1\u001b[0m \u001b[38;5;28;01mimport\u001b[39;00m \u001b[38;5;21;01mnilearn\u001b[39;00m\n\u001b[1;32m      2\u001b[0m \u001b[38;5;28;01mfrom\u001b[39;00m \u001b[38;5;21;01mnilearn\u001b[39;00m \u001b[38;5;28;01mimport\u001b[39;00m plotting, datasets\n\u001b[1;32m      4\u001b[0m \u001b[38;5;66;03m# Load the MNI152 template\u001b[39;00m\n",
      "\u001b[0;31mModuleNotFoundError\u001b[0m: No module named 'nilearn'"
     ]
    }
   ],
   "source": [
    "import nilearn\n",
    "from nilearn import plotting, datasets\n",
    "\n",
    "# Load the MNI152 template\n",
    "mni152 = datasets.load_mni152_template()\n",
    "\n",
    "# Define coordinates for subcortical structures (example coordinates, adjust as needed)\n",
    "amygdala_coords = [(27, -3, -22), (-27, -3, -22)]\n",
    "hippocampus_coords = [(24, -10, -18), (-24, -10, -18)]\n",
    "\n",
    "# Create a plot for subcortical structures\n",
    "fig_subcortical = plotting.plot_glass_brain(mni152, display_mode='lyrz', colorbar=True)\n",
    "\n",
    "# Add the subcortical structures\n",
    "for coord in amygdala_coords:\n",
    "    plotting.plot_markers([coord], color='blue', marker='o', s=50, axes=fig_subcortical.axes)\n",
    "\n",
    "for coord in hippocampus_coords:\n",
    "    plotting.plot_markers([coord], color='green', marker='o', s=50, axes=fig_subcortical.axes)\n",
    "\n",
    "# Add a key to the plot\n",
    "blue_patch = mpatches.Patch(color='blue', label='Amygdala')\n",
    "green_patch = mpatches.Patch(color='green', label='Hippocampus')\n",
    "plt.legend(handles=[blue_patch, green_patch])\n",
    "\n",
    "# Show the plot\n",
    "plt.show()\n"
   ]
  },
  {
   "cell_type": "code",
   "execution_count": 35,
   "id": "56bfdd36-789a-46b5-82d6-343f6c9617c2",
   "metadata": {},
   "outputs": [
    {
     "name": "stdout",
     "output_type": "stream",
     "text": [
      "Name: nilearn\n",
      "Version: 0.10.4\n",
      "Summary: Statistical learning for neuroimaging in Python\n",
      "Home-page: \n",
      "Author: Nilearn developers\n",
      "Author-email: \n",
      "License: new BSD\n",
      "Location: /usr/local/Caskroom/mambaforge/base/envs/llm/lib/python3.9/site-packages\n",
      "Requires: joblib, lxml, nibabel, numpy, packaging, pandas, requests, scikit-learn, scipy\n",
      "Required-by: \n"
     ]
    }
   ],
   "source": [
    "!pip3 show nilearn"
   ]
  },
  {
   "cell_type": "code",
   "execution_count": 36,
   "id": "b5a4f880-7663-4bde-9d17-6b35cdd7b466",
   "metadata": {},
   "outputs": [
    {
     "name": "stdout",
     "output_type": "stream",
     "text": [
      "# packages in environment at /usr/local/Caskroom/mambaforge/base/envs/llm:\n",
      "#\n",
      "# Name                    Version                   Build  Channel\n",
      "nilearn                   0.10.4             pyhd8ed1ab_0    conda-forge\n"
     ]
    }
   ],
   "source": [
    "!mamba list nilearn"
   ]
  },
  {
   "cell_type": "code",
   "execution_count": null,
   "id": "266965cc-63e2-4cb2-aa27-52390df76c6a",
   "metadata": {},
   "outputs": [],
   "source": []
  }
 ],
 "metadata": {
  "kernelspec": {
   "display_name": "Python 3 (ipykernel)",
   "language": "python",
   "name": "python3"
  },
  "language_info": {
   "codemirror_mode": {
    "name": "ipython",
    "version": 3
   },
   "file_extension": ".py",
   "mimetype": "text/x-python",
   "name": "python",
   "nbconvert_exporter": "python",
   "pygments_lexer": "ipython3",
   "version": "3.12.4"
  }
 },
 "nbformat": 4,
 "nbformat_minor": 5
}
